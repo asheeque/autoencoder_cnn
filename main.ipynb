{
 "cells": [
  {
   "cell_type": "code",
   "execution_count": null,
   "metadata": {
    "id": "oAgI3tWBtPwN"
   },
   "outputs": [],
   "source": []
  },
  {
   "cell_type": "markdown",
   "metadata": {
    "id": "bPE1uLgLq_my"
   },
   "source": [
    "# K-Means clustering"
   ]
  },
  {
   "cell_type": "markdown",
   "metadata": {
    "id": "zgtb23vFvWaR"
   },
   "source": [
    "## Add the required libraries "
   ]
  },
  {
   "cell_type": "code",
   "execution_count": 1,
   "metadata": {
    "id": "CI_9m3BqvQpl"
   },
   "outputs": [],
   "source": [
    "import numpy as np\n",
    "import matplotlib.pyplot as plt\n",
    "import tensorflow as tf\n",
    "import pandas as pd"
   ]
  },
  {
   "cell_type": "code",
   "execution_count": 2,
   "metadata": {
    "colab": {
     "base_uri": "https://localhost:8080/"
    },
    "id": "3jaDtJD9fbTE",
    "outputId": "1ab47b2c-62e4-460e-cacc-3e52127ea00b"
   },
   "outputs": [
    {
     "name": "stdout",
     "output_type": "stream",
     "text": [
      "Collecting validclust\n",
      "  Downloading validclust-0.1.1-py2.py3-none-any.whl (8.1 kB)\n",
      "Requirement already satisfied: packaging in /usr/local/lib/python3.7/dist-packages (from validclust) (21.2)\n",
      "Requirement already satisfied: seaborn in /usr/local/lib/python3.7/dist-packages (from validclust) (0.11.2)\n",
      "Requirement already satisfied: matplotlib in /usr/local/lib/python3.7/dist-packages (from validclust) (3.2.2)\n",
      "Requirement already satisfied: pandas in /usr/local/lib/python3.7/dist-packages (from validclust) (1.1.5)\n",
      "Requirement already satisfied: scikit-learn in /usr/local/lib/python3.7/dist-packages (from validclust) (0.22.2.post1)\n",
      "Requirement already satisfied: numpy>=1.16.5 in /usr/local/lib/python3.7/dist-packages (from validclust) (1.19.5)\n",
      "Requirement already satisfied: python-dateutil>=2.1 in /usr/local/lib/python3.7/dist-packages (from matplotlib->validclust) (2.8.2)\n",
      "Requirement already satisfied: cycler>=0.10 in /usr/local/lib/python3.7/dist-packages (from matplotlib->validclust) (0.11.0)\n",
      "Requirement already satisfied: pyparsing!=2.0.4,!=2.1.2,!=2.1.6,>=2.0.1 in /usr/local/lib/python3.7/dist-packages (from matplotlib->validclust) (2.4.7)\n",
      "Requirement already satisfied: kiwisolver>=1.0.1 in /usr/local/lib/python3.7/dist-packages (from matplotlib->validclust) (1.3.2)\n",
      "Requirement already satisfied: six>=1.5 in /usr/local/lib/python3.7/dist-packages (from python-dateutil>=2.1->matplotlib->validclust) (1.15.0)\n",
      "Requirement already satisfied: pytz>=2017.2 in /usr/local/lib/python3.7/dist-packages (from pandas->validclust) (2018.9)\n",
      "Requirement already satisfied: joblib>=0.11 in /usr/local/lib/python3.7/dist-packages (from scikit-learn->validclust) (1.1.0)\n",
      "Requirement already satisfied: scipy>=0.17.0 in /usr/local/lib/python3.7/dist-packages (from scikit-learn->validclust) (1.4.1)\n",
      "Installing collected packages: validclust\n",
      "Successfully installed validclust-0.1.1\n"
     ]
    }
   ],
   "source": [
    "pip install validclust"
   ]
  },
  {
   "cell_type": "code",
   "execution_count": 3,
   "metadata": {
    "id": "Qk662b_uMCOI"
   },
   "outputs": [],
   "source": [
    "import random\n",
    "from sklearn.metrics import silhouette_score\n",
    "from validclust import cop\n",
    "from sklearn.metrics import pairwise_distances\n",
    "from validclust import dunn\n",
    "import cv2\n",
    "np.random.seed(30)\n"
   ]
  },
  {
   "cell_type": "markdown",
   "metadata": {
    "id": "4matzYYvvhWt"
   },
   "source": [
    "##Load the CIFAR-10 Dataset"
   ]
  },
  {
   "cell_type": "code",
   "execution_count": 38,
   "metadata": {
    "id": "MEVAOUcEtUle"
   },
   "outputs": [],
   "source": [
    "\n",
    "(x_train, y_train), (x_test, y_test) = tf.keras.datasets.cifar10.load_data()\n"
   ]
  },
  {
   "cell_type": "code",
   "execution_count": 39,
   "metadata": {
    "colab": {
     "base_uri": "https://localhost:8080/"
    },
    "id": "HMeTxw0nfgp-",
    "outputId": "fd84dad5-7bc4-4a5d-a762-c3377b4cb5c5"
   },
   "outputs": [
    {
     "data": {
      "text/plain": [
       "(10000, 32, 32, 3)"
      ]
     },
     "execution_count": 39,
     "metadata": {},
     "output_type": "execute_result"
    }
   ],
   "source": [
    "x_test.shape"
   ]
  },
  {
   "cell_type": "markdown",
   "metadata": {
    "id": "63jrfHJpv5vF"
   },
   "source": [
    "## Convert the test RGB images to Greyscale"
   ]
  },
  {
   "cell_type": "code",
   "execution_count": 40,
   "metadata": {
    "id": "oldTlWzQtWpF"
   },
   "outputs": [],
   "source": [
    "x_train = np.array([cv2.cvtColor(image, cv2.COLOR_BGR2GRAY) for image in x_test])"
   ]
  },
  {
   "cell_type": "code",
   "execution_count": 41,
   "metadata": {
    "colab": {
     "base_uri": "https://localhost:8080/"
    },
    "id": "lR7z-8Nwtc25",
    "outputId": "42fdd486-fd71-49bb-8441-70b236e2109a"
   },
   "outputs": [
    {
     "data": {
      "text/plain": [
       "(32, 32)"
      ]
     },
     "execution_count": 41,
     "metadata": {},
     "output_type": "execute_result"
    }
   ],
   "source": [
    "x_train[0].shape"
   ]
  },
  {
   "cell_type": "markdown",
   "metadata": {
    "id": "FEU2V95xwEYU"
   },
   "source": [
    "## Normalize the images"
   ]
  },
  {
   "cell_type": "code",
   "execution_count": 42,
   "metadata": {
    "id": "z-xztYDUtj9p"
   },
   "outputs": [],
   "source": [
    "x_train = x_train.astype('float32') / 255"
   ]
  },
  {
   "cell_type": "markdown",
   "metadata": {
    "id": "CSbWpsAHz5TD"
   },
   "source": [
    "## Convert the images to 1D vector"
   ]
  },
  {
   "cell_type": "code",
   "execution_count": 43,
   "metadata": {
    "id": "4ag6xSnYvMdS"
   },
   "outputs": [],
   "source": [
    "x_train = x_train.reshape((-1, 1024))"
   ]
  },
  {
   "cell_type": "code",
   "execution_count": 44,
   "metadata": {
    "colab": {
     "base_uri": "https://localhost:8080/"
    },
    "id": "cc22PHOFvNQ_",
    "outputId": "aee4e048-0769-4b80-9911-e03244ec58e4"
   },
   "outputs": [
    {
     "data": {
      "text/plain": [
       "(10000, 1024)"
      ]
     },
     "execution_count": 44,
     "metadata": {},
     "output_type": "execute_result"
    }
   ],
   "source": [
    "x_train.shape"
   ]
  },
  {
   "cell_type": "markdown",
   "metadata": {
    "id": "Pp8ebD_z06C7"
   },
   "source": [
    "## Function calc_new_cen() takes current centroid and x_train as input\n",
    "* For every cluster the mean is calculated and the new centroids are returned"
   ]
  },
  {
   "cell_type": "code",
   "execution_count": 45,
   "metadata": {
    "id": "5mFYIV_oStXN"
   },
   "outputs": [],
   "source": [
    "def calc_new_cen(current_cen,x):\n",
    "\n",
    "  new_cen = []\n",
    "  clus_list = np.unique(current_cen)\n",
    "  for i in clus_list:\n",
    "    l = x[i == current_cen].mean(axis = 0)\n",
    "    new_cen.append(l)\n",
    "\n",
    "  return np.array(new_cen)\n"
   ]
  },
  {
   "cell_type": "markdown",
   "metadata": {
    "id": "QqBVdecZ1cmC"
   },
   "source": [
    "### Function assign group is used to assign the points to different clusters\n"
   ]
  },
  {
   "cell_type": "code",
   "execution_count": 46,
   "metadata": {
    "id": "ZETQyZ2qfJXB"
   },
   "outputs": [],
   "source": [
    "#Here for each point,euclidean distance is calculated from centroids\n",
    "#A point is assigned to a group of cluster if its euclidean distance from that centroid is shortest compared to other centroids\n",
    "#After assigning the group,the groups are returned\n",
    "\n",
    "def assign_group(x,centroids):\n",
    "  group = []\n",
    "  for i in x:\n",
    "    single_ele = []\n",
    "    for j in centroids:\n",
    "      sd = np.dot((i-j),(i-j))\n",
    "      euc_dis = np.sqrt(sd)\n",
    "      single_ele.append(euc_dis)\n",
    "    min_dis = min(single_ele)\n",
    "    pos = single_ele.index(min_dis)\n",
    "    group.append(pos)\n",
    "\n",
    "  return np.array(group)"
   ]
  },
  {
   "cell_type": "markdown",
   "metadata": {
    "id": "fu8DczQC3xST"
   },
   "source": [
    "### Function fit_kmeans is used to fit the data into kmeans model\n",
    "\n",
    "*   It chooses 10 random points as the cluster centroid.\n",
    "*   Number of iteration = 200 is taken \n",
    "*   For every iteration the points are grouped into clusters \n",
    "*   Then centroids are calculated by finding the mean\n",
    "*   This steps are repeated till it converges \n",
    "\n",
    "\n"
   ]
  },
  {
   "cell_type": "code",
   "execution_count": 47,
   "metadata": {
    "id": "IMcZtkpdH7Ty"
   },
   "outputs": [],
   "source": [
    "def fit_kmeans(x,max_iter,n_clusters):\n",
    "\n",
    "\n",
    "  centroids = x[np.random.choice(x.shape[0], n_clusters, replace=False), :]\n",
    "  iteration_no = 0\n",
    "  for i in range(max_iter):\n",
    "    if i%10 == 0 :\n",
    "      print(i)\n",
    "    current_group = assign_group(x,centroids)\n",
    "    previous_centroids = centroids\n",
    "    new_cen = calc_new_cen(current_group,x)\n",
    "    if (previous_centroids == new_cen).all():\n",
    "      iteration_no = i + 1\n",
    "      break\n",
    "    centroids = new_cen\n",
    "  if iteration_no == 0:\n",
    "      print(\"Number of iterations taken to converge :\",200)\n",
    "  else:\n",
    "    print(\"Number of iterations taken to converge :\",iteration_no)\n",
    "  \n",
    "  return current_group\n",
    "\n"
   ]
  },
  {
   "cell_type": "code",
   "execution_count": 48,
   "metadata": {
    "colab": {
     "base_uri": "https://localhost:8080/"
    },
    "id": "d_FXR6eILrYX",
    "outputId": "af10c9fc-c54a-4742-d859-1b108b984116"
   },
   "outputs": [
    {
     "name": "stdout",
     "output_type": "stream",
     "text": [
      "0\n",
      "10\n",
      "20\n",
      "30\n",
      "40\n",
      "50\n",
      "Number of iterations taken to converge : 56\n"
     ]
    }
   ],
   "source": [
    "n_clusters = 10\n",
    "max_iter = 200\n",
    "\n",
    "pred = fit_kmeans(x_train,max_iter,n_clusters)"
   ]
  },
  {
   "cell_type": "code",
   "execution_count": 49,
   "metadata": {
    "colab": {
     "base_uri": "https://localhost:8080/"
    },
    "id": "V5cSiuLHcu3G",
    "outputId": "ff2874a0-91a3-468b-a2e2-4f8d5cab1ba5"
   },
   "outputs": [
    {
     "name": "stdout",
     "output_type": "stream",
     "text": [
      "Silhouette Score for the cifar-10 test dataset(n=10): 0.05434064939618111\n"
     ]
    }
   ],
   "source": [
    "print(f'Silhouette Score for the cifar-10 test dataset(n=10): {silhouette_score(x_train, pred)}')\n"
   ]
  },
  {
   "cell_type": "code",
   "execution_count": 50,
   "metadata": {
    "id": "n53p_0Fyc7G7"
   },
   "outputs": [],
   "source": [
    "dist = pairwise_distances(x_train)"
   ]
  },
  {
   "cell_type": "code",
   "execution_count": 51,
   "metadata": {
    "colab": {
     "base_uri": "https://localhost:8080/"
    },
    "id": "pSCN4gdoeI0o",
    "outputId": "dcfbe368-1f04-48de-c130-d57e1078fd77"
   },
   "outputs": [
    {
     "name": "stdout",
     "output_type": "stream",
     "text": [
      "Dunn's Index is: 0.089936316\n"
     ]
    }
   ],
   "source": [
    "print(\"Dunn's Index is:\",dunn(dist, pred))"
   ]
  },
  {
   "cell_type": "markdown",
   "metadata": {
    "id": "OSlEDmHOqwy2"
   },
   "source": [
    "# Autoencoder\n"
   ]
  },
  {
   "cell_type": "markdown",
   "metadata": {
    "id": "3dH-_DjBrJmO"
   },
   "source": [
    "### Add required libraries for autoencoder"
   ]
  },
  {
   "cell_type": "code",
   "execution_count": 18,
   "metadata": {
    "id": "s-7Q_kMzIHrv"
   },
   "outputs": [],
   "source": [
    "from tensorflow.keras import layers\n",
    "from tensorflow.keras.models import Model\n",
    "from tensorflow import keras\n"
   ]
  },
  {
   "cell_type": "markdown",
   "metadata": {
    "id": "04dtohBgrQaB"
   },
   "source": [
    "### Get cifar dataset and normalize the dataset"
   ]
  },
  {
   "cell_type": "code",
   "execution_count": 19,
   "metadata": {
    "colab": {
     "base_uri": "https://localhost:8080/"
    },
    "id": "xv2RqWfQIY6H",
    "outputId": "1e39a3ba-bfe7-4bdb-cdbe-27fe4a3bf86f"
   },
   "outputs": [
    {
     "data": {
      "text/plain": [
       "(10000, 32, 32, 3)"
      ]
     },
     "execution_count": 19,
     "metadata": {},
     "output_type": "execute_result"
    }
   ],
   "source": [
    "def get_cifar():\n",
    "  (x_train, y_train), (x_test, y_test) = tf.keras.datasets.cifar10.load_data()\n",
    "  x_train = x_train.astype('float32') / 255\n",
    "  x_test = x_test.astype('float32') / 255\n",
    "\n",
    "  return (x_train, y_train), (x_test, y_test)\n",
    "(x_train, y_train), (x_test, y_test) = get_cifar()\n",
    "x_test.shape"
   ]
  },
  {
   "cell_type": "markdown",
   "metadata": {
    "id": "ZKaj-1OJrmHM"
   },
   "source": [
    "### Initially image is of shape 32 x 32 x 3"
   ]
  },
  {
   "cell_type": "code",
   "execution_count": 20,
   "metadata": {
    "id": "Uv9jvkHuI9-4"
   },
   "outputs": [],
   "source": [
    "  input = layers.Input(shape=(32, 32, 3))\n",
    "\n"
   ]
  },
  {
   "cell_type": "markdown",
   "metadata": {
    "id": "-YtbXKZPsCz7"
   },
   "source": [
    "## Encoder\n",
    "\n",
    "\n",
    "*   2 convolutional layers are added.\n",
    "*   Downsampling is done using the function MaxPooling2D\n",
    "*   Final shape of encoded image is 8x8x3\n",
    "\n"
   ]
  },
  {
   "cell_type": "code",
   "execution_count": 21,
   "metadata": {
    "id": "A560tdHGYTOz"
   },
   "outputs": [],
   "source": [
    "def encoder_init():\n",
    "\n",
    "  x = layers.Conv2D(32, (3, 3), activation=\"relu\", padding=\"same\")(input)\n",
    "  x = layers.MaxPooling2D((2, 2), padding=\"same\")(x)\n",
    "  x = layers.Conv2D(3, (3, 3), activation=\"relu\", padding=\"same\")(x)\n",
    "  x = layers.MaxPooling2D((2, 2), padding=\"same\")(x)\n",
    "  return x\n"
   ]
  },
  {
   "cell_type": "markdown",
   "metadata": {
    "id": "HUbMaKAQs6Dr"
   },
   "source": [
    "## Decoder\n",
    "\n",
    "\n",
    "*   2 deconvolutional layers are used to reconstruct the image from encoded data.\n",
    "*   For getting the final output,output from deconvolution layer is passed to a convolutional layer with sigmoid activation function. \n",
    "*   Final shape of decoded image is 32x32x3\n",
    "\n"
   ]
  },
  {
   "cell_type": "code",
   "execution_count": 22,
   "metadata": {
    "id": "_S5S0-9dSAq4"
   },
   "outputs": [],
   "source": [
    "def decoder_init(encoder_input):\n",
    "  x = layers.Conv2DTranspose(32, (3, 3), strides=2, activation=\"relu\", padding=\"same\")(encoder_input)\n",
    "  x = layers.Conv2DTranspose(32, (3, 3), strides=2, activation=\"relu\", padding=\"same\")(x)\n",
    "  x = layers.Conv2D(3, (3, 3), activation=\"sigmoid\", padding=\"same\")(x)\n",
    "  return x"
   ]
  },
  {
   "cell_type": "markdown",
   "metadata": {
    "id": "RgOjMkY1toei"
   },
   "source": [
    "### Autoencoder\n",
    "\n",
    "* Using the encoder and decoder,an autoencoder model is created.\n",
    "* The model is compiled using adam as optimizer and mean sqaure error as loss function\n"
   ]
  },
  {
   "cell_type": "code",
   "execution_count": 23,
   "metadata": {
    "colab": {
     "base_uri": "https://localhost:8080/"
    },
    "id": "Ek_aI-1nGcJ6",
    "outputId": "e53b1d37-4c4a-44c3-b5ae-6db763762c45"
   },
   "outputs": [
    {
     "name": "stdout",
     "output_type": "stream",
     "text": [
      "Model: \"autoencoder\"\n",
      "_________________________________________________________________\n",
      " Layer (type)                Output Shape              Param #   \n",
      "=================================================================\n",
      " input_1 (InputLayer)        [(None, 32, 32, 3)]       0         \n",
      "                                                                 \n",
      " encoder (Functional)        (None, 8, 8, 3)           1763      \n",
      "                                                                 \n",
      " decoder (Functional)        (None, 32, 32, 3)         11011     \n",
      "                                                                 \n",
      "=================================================================\n",
      "Total params: 12,774\n",
      "Trainable params: 12,774\n",
      "Non-trainable params: 0\n",
      "_________________________________________________________________\n"
     ]
    }
   ],
   "source": [
    "encoder_op = encoder_init()\n",
    "encoder = Model(input,encoder_op, name='encoder')\n",
    "# encoder.summary()\n",
    "\n",
    "decoder_op = decoder_init(encoder_op)\n",
    "decoder = Model(encoder_op,decoder_op,name=\"decoder\")\n",
    "# decoder.summary()\n",
    "autoencoder = Model(input, decoder(encoder(input)),name=\"autoencoder\")\n",
    "autoencoder.compile(optimizer=\"adam\", loss=\"mse\")\n",
    "autoencoder.summary()"
   ]
  },
  {
   "cell_type": "markdown",
   "metadata": {
    "id": "IdPRDLfxuBy5"
   },
   "source": [
    "### Training\n",
    "* The model is trained on cifar-10 training data\n",
    "* The number of epoch is 5 and batch size is 128"
   ]
  },
  {
   "cell_type": "code",
   "execution_count": 24,
   "metadata": {
    "colab": {
     "base_uri": "https://localhost:8080/"
    },
    "id": "z-LDhZLCJWN3",
    "outputId": "59815c3a-2bfd-43dc-bfaa-2a6eecc6138c"
   },
   "outputs": [
    {
     "name": "stdout",
     "output_type": "stream",
     "text": [
      "Epoch 1/5\n",
      "391/391 [==============================] - 39s 25ms/step - loss: 0.0202 - val_loss: 0.0104\n",
      "Epoch 2/5\n",
      "391/391 [==============================] - 9s 23ms/step - loss: 0.0089 - val_loss: 0.0083\n",
      "Epoch 3/5\n",
      "391/391 [==============================] - 9s 23ms/step - loss: 0.0081 - val_loss: 0.0081\n",
      "Epoch 4/5\n",
      "391/391 [==============================] - 9s 23ms/step - loss: 0.0077 - val_loss: 0.0076\n",
      "Epoch 5/5\n",
      "391/391 [==============================] - 9s 23ms/step - loss: 0.0075 - val_loss: 0.0073\n"
     ]
    },
    {
     "data": {
      "text/plain": [
       "<keras.callbacks.History at 0x7f3a10400d90>"
      ]
     },
     "execution_count": 24,
     "metadata": {},
     "output_type": "execute_result"
    }
   ],
   "source": [
    "autoencoder.fit(\n",
    "    x=x_train,\n",
    "    y=x_train,\n",
    "    epochs=5,\n",
    "    batch_size=128,\n",
    "    validation_data=(x_test, x_test),\n",
    ")"
   ]
  },
  {
   "cell_type": "markdown",
   "metadata": {
    "id": "oZN_a6zouXr4"
   },
   "source": [
    "### The trained model is used to reconstruct training dataset "
   ]
  },
  {
   "cell_type": "code",
   "execution_count": 25,
   "metadata": {
    "id": "hvEOJlpUJk_E"
   },
   "outputs": [],
   "source": [
    "predictions = autoencoder.predict(x_train)\n"
   ]
  },
  {
   "cell_type": "code",
   "execution_count": 26,
   "metadata": {
    "id": "D5bsIt_-xWmF"
   },
   "outputs": [],
   "source": [
    "testpredictions = autoencoder.predict(x_test)"
   ]
  },
  {
   "cell_type": "markdown",
   "metadata": {
    "id": "hU_TsFM0xnoP"
   },
   "source": [
    "### Reconstructed sample image from train dataset "
   ]
  },
  {
   "cell_type": "code",
   "execution_count": 27,
   "metadata": {
    "colab": {
     "base_uri": "https://localhost:8080/",
     "height": 283
    },
    "id": "tUVI30ZDjShj",
    "outputId": "8e8657a1-f30f-4254-d40a-6b5fdb3e5fee"
   },
   "outputs": [
    {
     "data": {
      "text/plain": [
       "<matplotlib.image.AxesImage at 0x7f3929d9b050>"
      ]
     },
     "execution_count": 27,
     "metadata": {},
     "output_type": "execute_result"
    },
    {
     "data": {
      "image/png": "[encoded data removed]",
      "text/plain": [
       "<Figure size 432x288 with 1 Axes>"
      ]
     },
     "metadata": {
      "needs_background": "light"
     },
     "output_type": "display_data"
    }
   ],
   "source": [
    "plt.imshow(predictions[1].reshape(32,32,3))"
   ]
  },
  {
   "cell_type": "markdown",
   "metadata": {
    "id": "A01Mt6crxzPl"
   },
   "source": [
    "### Orginal sample image from train dataset"
   ]
  },
  {
   "cell_type": "code",
   "execution_count": 28,
   "metadata": {
    "colab": {
     "base_uri": "https://localhost:8080/",
     "height": 283
    },
    "id": "-VZFB4JzjZbo",
    "outputId": "602c2d03-72f7-4e51-d27e-301c3cc55e68"
   },
   "outputs": [
    {
     "data": {
      "text/plain": [
       "<matplotlib.image.AxesImage at 0x7f3a100b0250>"
      ]
     },
     "execution_count": 28,
     "metadata": {},
     "output_type": "execute_result"
    },
    {
     "data": {
      "image/png": "[encoded data removed]",
      "text/plain": [
       "<Figure size 432x288 with 1 Axes>"
      ]
     },
     "metadata": {
      "needs_background": "light"
     },
     "output_type": "display_data"
    }
   ],
   "source": [
    "plt.imshow(x_train[1])"
   ]
  },
  {
   "cell_type": "markdown",
   "metadata": {
    "id": "p8uFPmihupB5"
   },
   "source": [
    "### Encoder model is used to create encoded data of test dataset"
   ]
  },
  {
   "cell_type": "code",
   "execution_count": 29,
   "metadata": {
    "id": "fEkodzUGjh2a"
   },
   "outputs": [],
   "source": [
    "eo = encoder.predict(x_test)"
   ]
  },
  {
   "cell_type": "markdown",
   "metadata": {
    "id": "zYYzRK-lx5b8"
   },
   "source": [
    "### Orginal sample image from test dataset"
   ]
  },
  {
   "cell_type": "code",
   "execution_count": 30,
   "metadata": {
    "colab": {
     "base_uri": "https://localhost:8080/",
     "height": 283
    },
    "id": "dCPtfauqxAwy",
    "outputId": "1ec90c01-fa35-40a4-b35e-48d80110712a"
   },
   "outputs": [
    {
     "data": {
      "text/plain": [
       "<matplotlib.image.AxesImage at 0x7f399cacbc90>"
      ]
     },
     "execution_count": 30,
     "metadata": {},
     "output_type": "execute_result"
    },
    {
     "data": {
      "image/png": "[encoded data removed]",
      "text/plain": [
       "<Figure size 432x288 with 1 Axes>"
      ]
     },
     "metadata": {
      "needs_background": "light"
     },
     "output_type": "display_data"
    }
   ],
   "source": [
    "plt.imshow(x_test[14])"
   ]
  },
  {
   "cell_type": "markdown",
   "metadata": {
    "id": "fr0Nywlgx-xs"
   },
   "source": [
    "### Reconstructed sample image from test dataset"
   ]
  },
  {
   "cell_type": "code",
   "execution_count": 31,
   "metadata": {
    "colab": {
     "base_uri": "https://localhost:8080/",
     "height": 283
    },
    "id": "J1n6Uyl8xPPM",
    "outputId": "16d72bf1-f26b-4bb5-ee92-e7d78a4ba599"
   },
   "outputs": [
    {
     "data": {
      "text/plain": [
       "<matplotlib.image.AxesImage at 0x7f399ca89e10>"
      ]
     },
     "execution_count": 31,
     "metadata": {},
     "output_type": "execute_result"
    },
    {
     "data": {
      "image/png": "[encoded data removed]",
      "text/plain": [
       "<Figure size 432x288 with 1 Axes>"
      ]
     },
     "metadata": {
      "needs_background": "light"
     },
     "output_type": "display_data"
    }
   ],
   "source": [
    "plt.imshow(testpredictions[14])"
   ]
  },
  {
   "cell_type": "markdown",
   "metadata": {
    "id": "FUvO1mkRyDXa"
   },
   "source": [
    "### Encoded sample image from test dataset"
   ]
  },
  {
   "cell_type": "code",
   "execution_count": 32,
   "metadata": {
    "colab": {
     "base_uri": "https://localhost:8080/",
     "height": 300
    },
    "id": "BQIKj4p_UUIn",
    "outputId": "6143e43b-7425-44b6-81dc-55c7ab863e5f"
   },
   "outputs": [
    {
     "name": "stderr",
     "output_type": "stream",
     "text": [
      "Clipping input data to the valid range for imshow with RGB data ([0..1] for floats or [0..255] for integers).\n"
     ]
    },
    {
     "data": {
      "text/plain": [
       "<matplotlib.image.AxesImage at 0x7f399c9f7f50>"
      ]
     },
     "execution_count": 32,
     "metadata": {},
     "output_type": "execute_result"
    },
    {
     "data": {
      "image/png": "[encoded data removed]",
      "text/plain": [
       "<Figure size 432x288 with 1 Axes>"
      ]
     },
     "metadata": {
      "needs_background": "light"
     },
     "output_type": "display_data"
    }
   ],
   "source": [
    "plt.imshow(eo[14].reshape(8,8,3))"
   ]
  },
  {
   "cell_type": "code",
   "execution_count": 32,
   "metadata": {
    "id": "31Go8EQwxNJ3"
   },
   "outputs": [],
   "source": []
  },
  {
   "cell_type": "markdown",
   "metadata": {
    "id": "XWlTqtBnu0-i"
   },
   "source": [
    "### K-Means clustering is done on encoded data of cifar-10 dataset\n",
    "\n",
    "* maximum iterations = 200\n",
    "* number of clusters = 10"
   ]
  },
  {
   "cell_type": "code",
   "execution_count": 33,
   "metadata": {
    "colab": {
     "base_uri": "https://localhost:8080/"
    },
    "id": "rtlxzeEFlz0j",
    "outputId": "16692518-f8f0-4ad4-ad67-2b1fdfc6c791"
   },
   "outputs": [
    {
     "name": "stdout",
     "output_type": "stream",
     "text": [
      "(10000, 192)\n",
      "0\n",
      "10\n",
      "20\n",
      "30\n",
      "40\n",
      "Number of iterations taken to converge : 43\n"
     ]
    }
   ],
   "source": [
    "n_clusters = 10\n",
    "max_iter = 200\n",
    "eo = eo.reshape((-1, 192))\n",
    "print(eo.shape)\n",
    "eo_pred = fit_kmeans(eo,max_iter,n_clusters)"
   ]
  },
  {
   "cell_type": "code",
   "execution_count": 34,
   "metadata": {
    "colab": {
     "base_uri": "https://localhost:8080/"
    },
    "id": "k8_G690Wrw0o",
    "outputId": "d97e2588-d819-421a-fd51-9458f6fad3d4"
   },
   "outputs": [
    {
     "data": {
      "text/plain": [
       "(10000, 3072)"
      ]
     },
     "execution_count": 34,
     "metadata": {},
     "output_type": "execute_result"
    }
   ],
   "source": [
    "l = x_test.reshape(-1,32*32*3)\n",
    "l.shape"
   ]
  },
  {
   "cell_type": "markdown",
   "metadata": {
    "id": "jNoxIq3hvfX5"
   },
   "source": [
    "###  Silhouette Score for the cifar-10 encoded test dataset"
   ]
  },
  {
   "cell_type": "code",
   "execution_count": 35,
   "metadata": {
    "colab": {
     "base_uri": "https://localhost:8080/"
    },
    "id": "1XpAMOrfntGM",
    "outputId": "bc7da656-6295-492e-c7e7-6d83e521a9f0"
   },
   "outputs": [
    {
     "name": "stdout",
     "output_type": "stream",
     "text": [
      "Silhouette Score for the cifar-10 encoded test dataset(n=10): 0.05269095301628113\n"
     ]
    }
   ],
   "source": [
    "print(f'Silhouette Score for the cifar-10 encoded test dataset(n=10): {silhouette_score(l, eo_pred)}')\n"
   ]
  },
  {
   "cell_type": "markdown",
   "metadata": {
    "id": "Vm-0DUXrvtHs"
   },
   "source": [
    "### Dun score"
   ]
  },
  {
   "cell_type": "code",
   "execution_count": 36,
   "metadata": {
    "colab": {
     "base_uri": "https://localhost:8080/"
    },
    "id": "V1weTTDSpN1E",
    "outputId": "a1c01951-71a4-41e9-85b7-d9661393edfc"
   },
   "outputs": [
    {
     "name": "stdout",
     "output_type": "stream",
     "text": [
      "Dunn's Index for the cifar-10 encoded test dataset is: 0.11497647\n"
     ]
    }
   ],
   "source": [
    "\n",
    "dist = pairwise_distances(l)\n",
    "print(\"Dunn's Index for the cifar-10 encoded test dataset is:\",dunn(dist, eo_pred))"
   ]
  },
  {
   "cell_type": "code",
   "execution_count": 36,
   "metadata": {
    "id": "dTMFwaP2pwSS"
   },
   "outputs": [],
   "source": []
  }
 ],
 "metadata": {
  "accelerator": "GPU",
  "colab": {
   "collapsed_sections": [],
   "name": "assignment2.ipynb",
   "provenance": []
  },
  "kernelspec": {
   "display_name": "Python 3 (ipykernel)",
   "language": "python",
   "name": "python3"
  },
  "language_info": {
   "codemirror_mode": {
    "name": "ipython",
    "version": 3
   },
   "file_extension": ".py",
   "mimetype": "text/x-python",
   "name": "python",
   "nbconvert_exporter": "python",
   "pygments_lexer": "ipython3",
   "version": "3.9.7"
  }
 },
 "nbformat": 4,
 "nbformat_minor": 1
}
